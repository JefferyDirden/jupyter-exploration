{
  "nbformat": 4,
  "nbformat_minor": 0,
  "metadata": {
    "colab": {
      "provenance": []
    },
    "kernelspec": {
      "name": "python3",
      "display_name": "Python 3"
    },
    "language_info": {
      "name": "python"
    }
  },
  "cells": [
    {
      "cell_type": "markdown",
      "source": [
        "My first markdown cell for this assignment"
      ],
      "metadata": {
        "id": "2CZh7kqOmUft"
      }
    },
    {
      "cell_type": "code",
      "execution_count": 2,
      "metadata": {
        "colab": {
          "base_uri": "https://localhost:8080/"
        },
        "id": "DN-WNXpcf6uE",
        "outputId": "0055eda7-0591-423a-d2c1-9c95f11b2ae3"
      },
      "outputs": [
        {
          "output_type": "stream",
          "name": "stdout",
          "text": [
            "Hello World, This is an assignment for ITAI 2373.\n"
          ]
        }
      ],
      "source": [
        "#Jeffery Dirden\n",
        "#ITAI 2373\n",
        "# Intro to Jupyter and Github\n",
        "\n",
        "print (\"Hello World, This is an assignment for ITAI 2373.\")"
      ]
    }
  ]
}